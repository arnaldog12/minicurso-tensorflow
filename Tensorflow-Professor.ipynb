{
 "cells": [
  {
   "cell_type": "markdown",
   "metadata": {},
   "source": [
    "# Dependências "
   ]
  },
  {
   "cell_type": "code",
   "execution_count": 1,
   "metadata": {},
   "outputs": [
    {
     "name": "stdout",
     "output_type": "stream",
     "text": [
      "1.12.0\n"
     ]
    }
   ],
   "source": [
    "import numpy as np\n",
    "import tensorflow as tf\n",
    "import matplotlib.pyplot as plt\n",
    "from tensorflow.keras.datasets import mnist\n",
    "from utils import plot\n",
    "\n",
    "%matplotlib inline\n",
    "\n",
    "print(tf.__version__)"
   ]
  },
  {
   "cell_type": "markdown",
   "metadata": {},
   "source": [
    "# Hello, Tensorflow!"
   ]
  },
  {
   "cell_type": "code",
   "execution_count": 2,
   "metadata": {},
   "outputs": [
    {
     "name": "stdout",
     "output_type": "stream",
     "text": [
      "b'Hello, Tensorflow!'\n"
     ]
    }
   ],
   "source": [
    "hello = tf.constant('Hello, Tensorflow!')\n",
    "sess = tf.Session()\n",
    "print(sess.run(hello))"
   ]
  },
  {
   "cell_type": "markdown",
   "metadata": {},
   "source": [
    "# Operações Básicas"
   ]
  },
  {
   "cell_type": "code",
   "execution_count": 3,
   "metadata": {},
   "outputs": [
    {
     "name": "stdout",
     "output_type": "stream",
     "text": [
      "Tensor(\"add:0\", shape=(), dtype=int32)\n",
      "Tensor(\"mul:0\", shape=(), dtype=int32)\n"
     ]
    }
   ],
   "source": [
    "a = tf.constant(2)\n",
    "b = tf.constant(3)\n",
    "\n",
    "print(a + b)\n",
    "print(a * b)"
   ]
  },
  {
   "cell_type": "code",
   "execution_count": 4,
   "metadata": {},
   "outputs": [
    {
     "name": "stdout",
     "output_type": "stream",
     "text": [
      "adição\n",
      "5\n",
      "5\n",
      "\n",
      "subtração\n",
      "-1\n",
      "-1\n",
      "\n",
      "multiplicação\n",
      "6\n",
      "6\n",
      "\n",
      "divisão\n",
      "0.6666666666666666\n",
      "0\n",
      "0.6666666666666666\n",
      "\n",
      "potenciação\n",
      "8\n",
      "8\n",
      "\n"
     ]
    }
   ],
   "source": [
    "with tf.Session() as sess:\n",
    "    print('adição')\n",
    "    print(sess.run(a + b))\n",
    "    print(sess.run(tf.add(a, b)))\n",
    "    print()\n",
    "    \n",
    "    print('subtração')    \n",
    "    print(sess.run(a - b))\n",
    "    print(sess.run(tf.subtract(a, b)))\n",
    "    print()\n",
    "    \n",
    "    print('multiplicação')    \n",
    "    print(sess.run(a * b))\n",
    "    print(sess.run(tf.multiply(a, b)))\n",
    "    print()\n",
    "    \n",
    "    print('divisão')    \n",
    "    print(sess.run(a / b))\n",
    "    print(sess.run(tf.div(a, b)))\n",
    "    print(sess.run(tf.divide(a, b)))\n",
    "    print()\n",
    "    \n",
    "    print('potenciação')\n",
    "    print(sess.run(a ** b))\n",
    "    print(sess.run(tf.pow(a, b)))\n",
    "    print()"
   ]
  },
  {
   "cell_type": "code",
   "execution_count": 5,
   "metadata": {},
   "outputs": [
    {
     "name": "stdout",
     "output_type": "stream",
     "text": [
      "[[11.]]\n",
      "[[3. 6.]\n",
      " [4. 8.]]\n"
     ]
    }
   ],
   "source": [
    "matrix1 = tf.constant([[1.0, 2.0]])\n",
    "matrix2 = tf.constant([[3.0], [4.0]])\n",
    "product = tf.matmul(matrix1, matrix2)\n",
    "multiply = tf.multiply(matrix1, matrix2)\n",
    "\n",
    "with tf.Session() as sess:\n",
    "    print(sess.run(product))\n",
    "    print(sess.run(multiply))"
   ]
  },
  {
   "cell_type": "code",
   "execution_count": 6,
   "metadata": {},
   "outputs": [
    {
     "name": "stdout",
     "output_type": "stream",
     "text": [
      "[35. 48.]\n",
      "[[ 5. 12.]]\n",
      "[[21. 24.]\n",
      " [28. 32.]]\n"
     ]
    }
   ],
   "source": [
    "vector1 = tf.constant([5.0, 6.0])\n",
    "vector2 = tf.constant([7.0, 8.0])\n",
    "\n",
    "with tf.Session() as sess:\n",
    "    print(sess.run(tf.multiply(vector1, vector2)))\n",
    "    print(sess.run(tf.multiply(matrix1, vector1)))\n",
    "    print(sess.run(tf.multiply(matrix2, vector2)))"
   ]
  },
  {
   "cell_type": "markdown",
   "metadata": {},
   "source": [
    "# Tipos de Variáveis "
   ]
  },
  {
   "cell_type": "markdown",
   "metadata": {},
   "source": [
    "### Variables"
   ]
  },
  {
   "cell_type": "code",
   "execution_count": 7,
   "metadata": {},
   "outputs": [
    {
     "name": "stdout",
     "output_type": "stream",
     "text": [
      "<tf.Variable 'Variable:0' shape=() dtype=float32_ref>\n",
      "<tf.Variable 'Variable_1:0' shape=(3,) dtype=float32_ref>\n"
     ]
    }
   ],
   "source": [
    "v1 = tf.Variable(2.0)\n",
    "v2 = tf.Variable([1.0, 2.0, 3.0])\n",
    "\n",
    "print(v1)\n",
    "print(v2)"
   ]
  },
  {
   "cell_type": "code",
   "execution_count": 8,
   "metadata": {},
   "outputs": [
    {
     "name": "stdout",
     "output_type": "stream",
     "text": [
      "[2. 4. 6.]\n"
     ]
    }
   ],
   "source": [
    "with tf.Session() as sess:\n",
    "    sess.run(tf.global_variables_initializer())\n",
    "    print(sess.run(v1 * v2))"
   ]
  },
  {
   "cell_type": "markdown",
   "metadata": {},
   "source": [
    "### Placeholders"
   ]
  },
  {
   "cell_type": "code",
   "execution_count": 9,
   "metadata": {},
   "outputs": [
    {
     "name": "stdout",
     "output_type": "stream",
     "text": [
      "5\n",
      "20\n"
     ]
    }
   ],
   "source": [
    "a = tf.placeholder(tf.int32)\n",
    "b = tf.placeholder(tf.int32)\n",
    "\n",
    "add = tf.add(a, b)\n",
    "mul = tf.multiply(a, b)\n",
    "\n",
    "with tf.Session() as sess:\n",
    "    print(sess.run(add, feed_dict={a: 2, b: 3}))\n",
    "    print(sess.run(mul, feed_dict={a: 4, b: 5}))"
   ]
  },
  {
   "cell_type": "markdown",
   "metadata": {},
   "source": [
    "# Tensorflow old school"
   ]
  },
  {
   "cell_type": "code",
   "execution_count": 28,
   "metadata": {},
   "outputs": [
    {
     "name": "stdout",
     "output_type": "stream",
     "text": [
      "(442, 10) (442, 1)\n"
     ]
    }
   ],
   "source": [
    "data = np.loadtxt('data/diabetes.csv', delimiter=',', skiprows=1)\n",
    "x, y = data[:, :-1], data[:, -1].reshape(-1, 1)\n",
    "\n",
    "print(x.shape, y.shape)"
   ]
  },
  {
   "cell_type": "code",
   "execution_count": 29,
   "metadata": {},
   "outputs": [],
   "source": [
    "tf.reset_default_graph()\n",
    "\n",
    "learning_rate = 1e-3\n",
    "\n",
    "graph = tf.Graph()\n",
    "with graph.as_default():\n",
    "    x_train = tf.placeholder(tf.float32, shape=(None, 10))\n",
    "    y_train = tf.placeholder(tf.float32, shape=(None, 1))\n",
    "    \n",
    "    w = tf.Variable(tf.random_normal(shape=(1, 10)))\n",
    "    b = tf.Variable(tf.ones(shape=(1, 1)))\n",
    "    \n",
    "    y_pred = tf.add(tf.matmul(x_train, w, transpose_b=True), b)\n",
    "    error = tf.subtract(y_train, y_pred)\n",
    "    \n",
    "    cost = tf.reduce_mean(tf.pow(error, 2))\n",
    "    \n",
    "    delta = tf.matmul(error, x_train, transpose_a=True)\n",
    "    train_w = tf.assign(w, tf.add(w, learning_rate*delta))\n",
    "    train_b = tf.assign(b, tf.add(b, learning_rate*tf.reduce_sum(error)))\n",
    "    \n",
    "    train_op = tf.train.AdamOptimizer().minimize(cost)"
   ]
  },
  {
   "cell_type": "code",
   "execution_count": 30,
   "metadata": {},
   "outputs": [
    {
     "name": "stdout",
     "output_type": "stream",
     "text": [
      "28769.447\n",
      "4685.098\n",
      "4047.8076\n",
      "3696.9038\n",
      "3486.5981\n",
      "3349.2607\n",
      "3252.6807\n",
      "3180.8757\n",
      "3125.432\n",
      "3081.5745\n"
     ]
    }
   ],
   "source": [
    "with tf.Session(graph=graph) as sess:\n",
    "    sess.run(tf.global_variables_initializer())\n",
    "    \n",
    "    for i in range(1000):\n",
    "        _, _, train_cost = sess.run([train_w, train_b, cost], feed_dict={x_train:x, y_train:y})\n",
    "#         _, train_cost = sess.run([train_op, cost], feed_dict={x_train:x, y_train:y.reshape(-1, 1)})\n",
    "        \n",
    "        if i % 100 == 0:\n",
    "            print(train_cost)"
   ]
  },
  {
   "cell_type": "markdown",
   "metadata": {},
   "source": [
    "# Eager execution"
   ]
  },
  {
   "cell_type": "code",
   "execution_count": 2,
   "metadata": {},
   "outputs": [],
   "source": [
    "tf.enable_eager_execution()"
   ]
  },
  {
   "cell_type": "code",
   "execution_count": 8,
   "metadata": {},
   "outputs": [
    {
     "name": "stdout",
     "output_type": "stream",
     "text": [
      "a + b = 5\n",
      "a * b = 6\n"
     ]
    }
   ],
   "source": [
    "a = tf.constant(2)\n",
    "b = tf.constant(3)\n",
    "\n",
    "print('a + b = {}'.format(a + b))\n",
    "print('a * b = {}'.format(a * b))"
   ]
  },
  {
   "cell_type": "code",
   "execution_count": 15,
   "metadata": {},
   "outputs": [
    {
     "name": "stdout",
     "output_type": "stream",
     "text": [
      "tf.Tensor(\n",
      "[[5. 1.]\n",
      " [6. 1.]], shape=(2, 2), dtype=float32)\n",
      "tf.Tensor(\n",
      "[[11.  1.]\n",
      " [ 3.  0.]], shape=(2, 2), dtype=float32)\n"
     ]
    }
   ],
   "source": [
    "a = tf.constant([[2.0, 1.0], [1.0, 0.0]], dtype=tf.float32)\n",
    "b = np.array([[3.0, 0.0], [5.0, 1.0]], dtype=np.float32)\n",
    "\n",
    "add = a + b\n",
    "mul = tf.matmul(a, b)\n",
    "\n",
    "print(add)\n",
    "print(mul)"
   ]
  },
  {
   "cell_type": "markdown",
   "metadata": {},
   "source": [
    "# Exemplos"
   ]
  },
  {
   "cell_type": "markdown",
   "metadata": {},
   "source": [
    "### Classificação com Rede Neural Simples"
   ]
  },
  {
   "cell_type": "code",
   "execution_count": 2,
   "metadata": {},
   "outputs": [
    {
     "name": "stdout",
     "output_type": "stream",
     "text": [
      "Downloading data from https://storage.googleapis.com/tensorflow/tf-keras-datasets/mnist.npz\n",
      "11493376/11490434 [==============================] - 1s 0us/step\n",
      "(60000, 28, 28) (60000,)\n",
      "(10000, 28, 28) (10000,)\n"
     ]
    }
   ],
   "source": [
    "(x_train, y_train), (x_test, y_test) = mnist.load_data()\n",
    "\n",
    "print(x_train.shape, y_train.shape)\n",
    "print(x_test.shape, y_test.shape)"
   ]
  },
  {
   "cell_type": "code",
   "execution_count": 3,
   "metadata": {},
   "outputs": [
    {
     "data": {
      "image/png": "[encoded data removed]",
      "text/plain": [
       "<Figure size 1152x360 with 30 Axes>"
      ]
     },
     "metadata": {
      "needs_background": "light"
     },
     "output_type": "display_data"
    }
   ],
   "source": [
    "plot.image_batch(x_train[:30], y_train[:30])"
   ]
  },
  {
   "cell_type": "code",
   "execution_count": 4,
   "metadata": {},
   "outputs": [],
   "source": [
    "x_train, x_test = x_train / 255.0, x_test / 255.0"
   ]
  },
  {
   "cell_type": "code",
   "execution_count": 6,
   "metadata": {},
   "outputs": [
    {
     "name": "stdout",
     "output_type": "stream",
     "text": [
      "_________________________________________________________________\n",
      "Layer (type)                 Output Shape              Param #   \n",
      "=================================================================\n",
      "flatten_1 (Flatten)          (None, 784)               0         \n",
      "_________________________________________________________________\n",
      "dense_2 (Dense)              (None, 128)               100480    \n",
      "_________________________________________________________________\n",
      "dense_3 (Dense)              (None, 10)                1290      \n",
      "=================================================================\n",
      "Total params: 101,770\n",
      "Trainable params: 101,770\n",
      "Non-trainable params: 0\n",
      "_________________________________________________________________\n",
      "Train on 42000 samples, validate on 18000 samples\n",
      "Epoch 1/5\n",
      "42000/42000 [==============================] - 2s 41us/step - loss: 0.3046 - acc: 0.9131 - val_loss: 0.1835 - val_acc: 0.9467\n",
      "Epoch 2/5\n",
      "42000/42000 [==============================] - 2s 36us/step - loss: 0.1371 - acc: 0.9597 - val_loss: 0.1357 - val_acc: 0.9589\n",
      "Epoch 3/5\n",
      "42000/42000 [==============================] - 2s 36us/step - loss: 0.0936 - acc: 0.9726 - val_loss: 0.1159 - val_acc: 0.9661\n",
      "Epoch 4/5\n",
      "42000/42000 [==============================] - 1s 36us/step - loss: 0.0694 - acc: 0.9783 - val_loss: 0.1098 - val_acc: 0.9676\n",
      "Epoch 5/5\n",
      "42000/42000 [==============================] - 2s 36us/step - loss: 0.0530 - acc: 0.9842 - val_loss: 0.1080 - val_acc: 0.9686\n",
      "10000/10000 [==============================] - 0s 14us/step\n"
     ]
    },
    {
     "data": {
      "text/plain": [
       "[0.09646237155329436, 0.9724]"
      ]
     },
     "execution_count": 6,
     "metadata": {},
     "output_type": "execute_result"
    }
   ],
   "source": [
    "model = tf.keras.models.Sequential([\n",
    "    tf.keras.layers.Flatten(input_shape=(28, 28)),\n",
    "    tf.keras.layers.Dense(128, activation=tf.nn.relu),\n",
    "    tf.keras.layers.Dense(10, activation=tf.nn.softmax)\n",
    "])\n",
    "\n",
    "model.summary()\n",
    "\n",
    "model.compile(optimizer='adam', loss='sparse_categorical_crossentropy', metrics=['accuracy'])\n",
    "\n",
    "model.fit(x_train, y_train, batch_size=32, epochs=5, validation_split=0.3)\n",
    "model.evaluate(x_test, y_test)"
   ]
  },
  {
   "cell_type": "markdown",
   "metadata": {},
   "source": [
    "### Classificação com Rede Neural Convolucional"
   ]
  },
  {
   "cell_type": "code",
   "execution_count": 12,
   "metadata": {},
   "outputs": [
    {
     "name": "stdout",
     "output_type": "stream",
     "text": [
      "_________________________________________________________________\n",
      "Layer (type)                 Output Shape              Param #   \n",
      "=================================================================\n",
      "conv2d_17 (Conv2D)           (None, 28, 28, 8)         80        \n",
      "_________________________________________________________________\n",
      "max_pooling2d_12 (MaxPooling (None, 14, 14, 8)         0         \n",
      "_________________________________________________________________\n",
      "conv2d_18 (Conv2D)           (None, 14, 14, 16)        1168      \n",
      "_________________________________________________________________\n",
      "max_pooling2d_13 (MaxPooling (None, 7, 7, 16)          0         \n",
      "_________________________________________________________________\n",
      "conv2d_19 (Conv2D)           (None, 7, 7, 32)          4640      \n",
      "_________________________________________________________________\n",
      "max_pooling2d_14 (MaxPooling (None, 3, 3, 32)          0         \n",
      "_________________________________________________________________\n",
      "conv2d_20 (Conv2D)           (None, 3, 3, 64)          18496     \n",
      "_________________________________________________________________\n",
      "flatten_6 (Flatten)          (None, 576)               0         \n",
      "_________________________________________________________________\n",
      "dense_12 (Dense)             (None, 16)                9232      \n",
      "_________________________________________________________________\n",
      "dense_13 (Dense)             (None, 10)                170       \n",
      "=================================================================\n",
      "Total params: 33,786\n",
      "Trainable params: 33,786\n",
      "Non-trainable params: 0\n",
      "_________________________________________________________________\n",
      "Train on 42000 samples, validate on 18000 samples\n",
      "Epoch 1/5\n",
      "42000/42000 [==============================] - 12s 289us/step - loss: 0.2873 - acc: 0.9071 - val_loss: 0.1115 - val_acc: 0.9661\n",
      "Epoch 2/5\n",
      "42000/42000 [==============================] - 11s 267us/step - loss: 0.0744 - acc: 0.9765 - val_loss: 0.0606 - val_acc: 0.9822\n",
      "Epoch 3/5\n",
      "42000/42000 [==============================] - 11s 266us/step - loss: 0.0516 - acc: 0.9831 - val_loss: 0.0701 - val_acc: 0.9801\n",
      "Epoch 4/5\n",
      "42000/42000 [==============================] - 11s 270us/step - loss: 0.0413 - acc: 0.9862 - val_loss: 0.0569 - val_acc: 0.9829\n",
      "Epoch 5/5\n",
      "42000/42000 [==============================] - 11s 268us/step - loss: 0.0315 - acc: 0.9898 - val_loss: 0.0499 - val_acc: 0.9860\n",
      "10000/10000 [==============================] - 1s 87us/step\n"
     ]
    },
    {
     "data": {
      "text/plain": [
       "[0.03840717237161589, 0.9877]"
      ]
     },
     "execution_count": 12,
     "metadata": {},
     "output_type": "execute_result"
    }
   ],
   "source": [
    "model = tf.keras.models.Sequential([\n",
    "    tf.keras.layers.Conv2D(filters=8, kernel_size=(3, 3), strides=(1, 1), padding='same', activation='relu', input_shape=(28, 28, 1)),\n",
    "    tf.keras.layers.MaxPool2D(pool_size=(2, 2), strides=(2, 2), padding='valid'),\n",
    "    tf.keras.layers.Conv2D(filters=16, kernel_size=(3, 3), strides=(1, 1), padding='same', activation='relu'),\n",
    "    tf.keras.layers.MaxPool2D(pool_size=(2, 2), strides=(2, 2), padding='valid'),\n",
    "    tf.keras.layers.Conv2D(filters=32, kernel_size=(3, 3), strides=(1, 1), padding='same', activation='relu'),\n",
    "    tf.keras.layers.MaxPool2D(pool_size=(2, 2), strides=(2, 2), padding='valid'),\n",
    "    tf.keras.layers.Conv2D(filters=64, kernel_size=(3, 3), strides=(1, 1), padding='same', activation='relu'),\n",
    "    tf.keras.layers.Flatten(),\n",
    "    tf.keras.layers.Dense(units=16, activation='relu'),\n",
    "    tf.keras.layers.Dense(units=10, activation='softmax')\n",
    "])\n",
    "\n",
    "model.summary()\n",
    "\n",
    "model.compile(optimizer='adam', loss='sparse_categorical_crossentropy', metrics=['accuracy'])\n",
    "\n",
    "model.fit(x_train.reshape(-1, 28, 28, 1), y_train, batch_size=32, epochs=5, validation_split=0.3)\n",
    "model.evaluate(x_test.reshape(-1, 28, 28, 1), y_test)"
   ]
  },
  {
   "cell_type": "markdown",
   "metadata": {},
   "source": [
    "### Regressão Multivariada"
   ]
  },
  {
   "cell_type": "code",
   "execution_count": 32,
   "metadata": {},
   "outputs": [
    {
     "name": "stdout",
     "output_type": "stream",
     "text": [
      "(442, 10) (442, 1)\n"
     ]
    }
   ],
   "source": [
    "data = np.loadtxt('data/diabetes.csv', delimiter=',', skiprows=1)\n",
    "x, y = data[:, :-1], data[:, -1].reshape(-1, 1)\n",
    "\n",
    "print(x.shape, y.shape)"
   ]
  },
  {
   "cell_type": "code",
   "execution_count": 38,
   "metadata": {
    "scrolled": false
   },
   "outputs": [
    {
     "name": "stdout",
     "output_type": "stream",
     "text": [
      "_________________________________________________________________\n",
      "Layer (type)                 Output Shape              Param #   \n",
      "=================================================================\n",
      "dense_12 (Dense)             (None, 50)                550       \n",
      "_________________________________________________________________\n",
      "dropout_6 (Dropout)          (None, 50)                0         \n",
      "_________________________________________________________________\n",
      "dense_13 (Dense)             (None, 50)                2550      \n",
      "_________________________________________________________________\n",
      "dropout_7 (Dropout)          (None, 50)                0         \n",
      "_________________________________________________________________\n",
      "dense_14 (Dense)             (None, 50)                2550      \n",
      "_________________________________________________________________\n",
      "dense_15 (Dense)             (None, 1)                 51        \n",
      "=================================================================\n",
      "Total params: 5,701\n",
      "Trainable params: 5,701\n",
      "Non-trainable params: 0\n",
      "_________________________________________________________________\n",
      "Train on 309 samples, validate on 133 samples\n",
      "Epoch 1/50\n",
      " 32/309 [==>...........................] - ETA: 14s - loss: 27974.2617 - mean_squared_error: 27974.2617\n",
      "Epoch 00001: val_loss improved from inf to 30633.46871, saving model to models/best_model.hdf5\n",
      "309/309 [==============================] - 3s 8ms/step - loss: 28374.7882 - mean_squared_error: 28374.7882 - val_loss: 30633.4687 - val_mean_squared_error: 30633.4687\n",
      "Epoch 2/50\n",
      " 32/309 [==>...........................] - ETA: 0s - loss: 29706.5059 - mean_squared_error: 29706.5059\n",
      "Epoch 00002: val_loss improved from 30633.46871 to 30580.60553, saving model to models/best_model.hdf5\n",
      "309/309 [==============================] - 0s 349us/step - loss: 28336.6908 - mean_squared_error: 28336.6908 - val_loss: 30580.6055 - val_mean_squared_error: 30580.6055\n",
      "Epoch 3/50\n",
      "288/309 [==========================>...] - ETA: 0s - loss: 28743.5078 - mean_squared_error: 28743.5078\n",
      "Epoch 00003: val_loss improved from 30580.60553 to 30485.86175, saving model to models/best_model.hdf5\n",
      "309/309 [==============================] - 0s 420us/step - loss: 28271.7453 - mean_squared_error: 28271.7453 - val_loss: 30485.8618 - val_mean_squared_error: 30485.8618\n",
      "Epoch 4/50\n",
      " 32/309 [==>...........................] - ETA: 0s - loss: 33234.5547 - mean_squared_error: 33234.5547\n",
      "Epoch 00004: val_loss improved from 30485.86175 to 30306.10137, saving model to models/best_model.hdf5\n",
      "309/309 [==============================] - 0s 358us/step - loss: 28147.1688 - mean_squared_error: 28147.1688 - val_loss: 30306.1014 - val_mean_squared_error: 30306.1014\n",
      "Epoch 5/50\n",
      " 32/309 [==>...........................] - ETA: 0s - loss: 29710.3887 - mean_squared_error: 29710.3887\n",
      "Epoch 00005: val_loss improved from 30306.10137 to 29955.59642, saving model to models/best_model.hdf5\n",
      "309/309 [==============================] - 0s 447us/step - loss: 27921.4172 - mean_squared_error: 27921.4172 - val_loss: 29955.5964 - val_mean_squared_error: 29955.5964\n",
      "Epoch 6/50\n",
      " 32/309 [==>...........................] - ETA: 0s - loss: 27697.7227 - mean_squared_error: 27697.7227\n",
      "Epoch 00006: val_loss improved from 29955.59642 to 29293.66093, saving model to models/best_model.hdf5\n",
      "309/309 [==============================] - 0s 336us/step - loss: 27461.1714 - mean_squared_error: 27461.1714 - val_loss: 29293.6609 - val_mean_squared_error: 29293.6609\n",
      "Epoch 7/50\n",
      " 32/309 [==>...........................] - ETA: 0s - loss: 22889.2266 - mean_squared_error: 22889.2266\n",
      "Epoch 00007: val_loss improved from 29293.66093 to 28091.85315, saving model to models/best_model.hdf5\n",
      "309/309 [==============================] - 0s 333us/step - loss: 26605.0291 - mean_squared_error: 26605.0291 - val_loss: 28091.8531 - val_mean_squared_error: 28091.8531\n",
      "Epoch 8/50\n",
      "288/309 [==========================>...] - ETA: 0s - loss: 25639.2720 - mean_squared_error: 25639.2720\n",
      "Epoch 00008: val_loss improved from 28091.85315 to 26056.83450, saving model to models/best_model.hdf5\n",
      "309/309 [==============================] - 0s 530us/step - loss: 25194.9653 - mean_squared_error: 25194.9653 - val_loss: 26056.8345 - val_mean_squared_error: 26056.8345\n",
      "Epoch 9/50\n",
      " 32/309 [==>...........................] - ETA: 0s - loss: 27399.1875 - mean_squared_error: 27399.1875\n",
      "Epoch 00009: val_loss improved from 26056.83450 to 22941.09915, saving model to models/best_model.hdf5\n",
      "309/309 [==============================] - 0s 367us/step - loss: 23024.2087 - mean_squared_error: 23024.2087 - val_loss: 22941.0992 - val_mean_squared_error: 22941.0992\n",
      "Epoch 10/50\n",
      " 32/309 [==>...........................] - ETA: 0s - loss: 19042.3047 - mean_squared_error: 19042.3047\n",
      "Epoch 00010: val_loss improved from 22941.09915 to 18648.86948, saving model to models/best_model.hdf5\n",
      "309/309 [==============================] - 0s 377us/step - loss: 19519.5754 - mean_squared_error: 19519.5754 - val_loss: 18648.8695 - val_mean_squared_error: 18648.8695\n",
      "Epoch 11/50\n",
      "256/309 [=======================>......] - ETA: 0s - loss: 16135.5485 - mean_squared_error: 16135.5485\n",
      "Epoch 00011: val_loss improved from 18648.86948 to 13406.59410, saving model to models/best_model.hdf5\n",
      "309/309 [==============================] - 0s 459us/step - loss: 15285.2995 - mean_squared_error: 15285.2995 - val_loss: 13406.5941 - val_mean_squared_error: 13406.5941\n",
      "Epoch 12/50\n",
      " 32/309 [==>...........................] - ETA: 0s - loss: 10095.7129 - mean_squared_error: 10095.7129\n",
      "Epoch 00012: val_loss improved from 13406.59410 to 8391.34888, saving model to models/best_model.hdf5\n",
      "309/309 [==============================] - 0s 357us/step - loss: 10635.7518 - mean_squared_error: 10635.7518 - val_loss: 8391.3489 - val_mean_squared_error: 8391.3489\n",
      "Epoch 13/50\n",
      " 32/309 [==>...........................] - ETA: 0s - loss: 5122.3975 - mean_squared_error: 5122.3975\n",
      "Epoch 00013: val_loss improved from 8391.34888 to 5117.56572, saving model to models/best_model.hdf5\n",
      "309/309 [==============================] - 0s 413us/step - loss: 6544.1330 - mean_squared_error: 6544.1330 - val_loss: 5117.5657 - val_mean_squared_error: 5117.5657\n",
      "Epoch 14/50\n",
      " 32/309 [==>...........................] - ETA: 0s - loss: 6904.0630 - mean_squared_error: 6904.0630\n",
      "Epoch 00014: val_loss improved from 5117.56572 to 4211.21138, saving model to models/best_model.hdf5\n",
      "309/309 [==============================] - 0s 351us/step - loss: 5719.6416 - mean_squared_error: 5719.6416 - val_loss: 4211.2114 - val_mean_squared_error: 4211.2114\n",
      "Epoch 15/50\n",
      " 32/309 [==>...........................] - ETA: 0s - loss: 6004.3174 - mean_squared_error: 6004.3174\n",
      "Epoch 00015: val_loss improved from 4211.21138 to 4040.66367, saving model to models/best_model.hdf5\n",
      "309/309 [==============================] - 0s 317us/step - loss: 5724.6338 - mean_squared_error: 5724.6338 - val_loss: 4040.6637 - val_mean_squared_error: 4040.6637\n",
      "Epoch 16/50\n",
      " 32/309 [==>...........................] - ETA: 0s - loss: 5190.0967 - mean_squared_error: 5190.0967\n",
      "Epoch 00016: val_loss improved from 4040.66367 to 3928.52541, saving model to models/best_model.hdf5\n",
      "309/309 [==============================] - 0s 325us/step - loss: 5478.3016 - mean_squared_error: 5478.3016 - val_loss: 3928.5254 - val_mean_squared_error: 3928.5254\n",
      "Epoch 17/50\n",
      " 32/309 [==>...........................] - ETA: 0s - loss: 4920.2085 - mean_squared_error: 4920.2085\n",
      "Epoch 00017: val_loss did not improve from 3928.52541\n",
      "309/309 [==============================] - 0s 177us/step - loss: 5128.3357 - mean_squared_error: 5128.3357 - val_loss: 3936.9035 - val_mean_squared_error: 3936.9035\n",
      "Epoch 00017: early stopping\n"
     ]
    }
   ],
   "source": [
    "model = tf.keras.models.Sequential([\n",
    "    tf.keras.layers.Dense(units=50, activation='relu', input_dim=10),\n",
    "    tf.keras.layers.Dropout(rate=0.5),\n",
    "    tf.keras.layers.Dense(units=50, activation='relu'),\n",
    "    tf.keras.layers.Dropout(rate=0.5),    \n",
    "    tf.keras.layers.Dense(units=50, activation='relu'),\n",
    "    tf.keras.layers.Dense(units=1)\n",
    "])\n",
    "\n",
    "model.summary()\n",
    "\n",
    "list_callbacks = [tf.keras.callbacks.EarlyStopping(monitor='val_loss', patience=1, verbose=1),\n",
    "                 tf.keras.callbacks.ModelCheckpoint('models/best_model.hdf5', monitor='val_loss', verbose=1, save_best_only=True)]\n",
    "\n",
    "model.compile(optimizer='adam', loss='mse', metrics=['mse'])\n",
    "\n",
    "hist = model.fit(x, y, batch_size=32, epochs=50, validation_split=0.3, callbacks=list_callbacks)"
   ]
  },
  {
   "cell_type": "code",
   "execution_count": 37,
   "metadata": {},
   "outputs": [
    {
     "data": {
      "text/plain": [
       "<matplotlib.legend.Legend at 0xb2ec63978>"
      ]
     },
     "execution_count": 37,
     "metadata": {},
     "output_type": "execute_result"
    },
    {
     "data": {
      "image/png": "[encoded data removed]",
      "text/plain": [
       "<Figure size 432x288 with 1 Axes>"
      ]
     },
     "metadata": {
      "needs_background": "light"
     },
     "output_type": "display_data"
    }
   ],
   "source": [
    "hist_dict = hist.history\n",
    "loss_train = hist_dict['loss']\n",
    "loss_val = hist_dict['val_loss']\n",
    "\n",
    "plt.figure()\n",
    "plt.plot(loss_train, label='train')\n",
    "plt.plot(loss_val, label='val')\n",
    "plt.legend()"
   ]
  },
  {
   "cell_type": "code",
   "execution_count": null,
   "metadata": {},
   "outputs": [],
   "source": [
    "model = tf.keras.models.load_model('models/best_model.hdf5')\n",
    "model.predict(x)"
   ]
  },
  {
   "cell_type": "code",
   "execution_count": null,
   "metadata": {},
   "outputs": [],
   "source": []
  }
 ],
 "metadata": {
  "kernelspec": {
   "display_name": "Python 3",
   "language": "python",
   "name": "python3"
  },
  "language_info": {
   "codemirror_mode": {
    "name": "ipython",
    "version": 3
   },
   "file_extension": ".py",
   "mimetype": "text/x-python",
   "name": "python",
   "nbconvert_exporter": "python",
   "pygments_lexer": "ipython3",
   "version": "3.6.8"
  }
 },
 "nbformat": 4,
 "nbformat_minor": 2
}
