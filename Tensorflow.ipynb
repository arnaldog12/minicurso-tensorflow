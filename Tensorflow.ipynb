{
 "cells": [
  {
   "cell_type": "markdown",
   "metadata": {},
   "source": [
    "# Dependências "
   ]
  },
  {
   "cell_type": "code",
   "execution_count": 23,
   "metadata": {},
   "outputs": [
    {
     "name": "stdout",
     "output_type": "stream",
     "text": [
      "1.12.0\n"
     ]
    }
   ],
   "source": [
    "import numpy as np\n",
    "import tensorflow as tf\n",
    "import matplotlib.pyplot as plt\n",
    "from tensorflow.keras.datasets import mnist\n",
    "from utils import plot\n",
    "\n",
    "%matplotlib inline\n",
    "\n",
    "print(tf.__version__)"
   ]
  },
  {
   "cell_type": "markdown",
   "metadata": {},
   "source": [
    "# Hello, Tensorflow!"
   ]
  },
  {
   "cell_type": "code",
   "execution_count": 5,
   "metadata": {},
   "outputs": [
    {
     "name": "stdout",
     "output_type": "stream",
     "text": [
      "b'Hello, Tensorflow!'\n"
     ]
    }
   ],
   "source": [
    "hello = tf.constant('Hello, Tensorflow!')\n",
    "sess = tf.Session()\n",
    "print(sess.run(hello))"
   ]
  },
  {
   "cell_type": "markdown",
   "metadata": {},
   "source": [
    "# Operações Básicas"
   ]
  },
  {
   "cell_type": "code",
   "execution_count": 7,
   "metadata": {},
   "outputs": [
    {
     "name": "stdout",
     "output_type": "stream",
     "text": [
      "Tensor(\"add_1:0\", shape=(), dtype=int32)\n",
      "Tensor(\"mul:0\", shape=(), dtype=int32)\n"
     ]
    }
   ],
   "source": [
    "a = tf.constant(2)\n",
    "b = tf.constant(3)\n",
    "\n",
    "print(a + b)\n",
    "print(a * b)"
   ]
  },
  {
   "cell_type": "code",
   "execution_count": 15,
   "metadata": {},
   "outputs": [
    {
     "name": "stdout",
     "output_type": "stream",
     "text": [
      "adição\n",
      "5\n",
      "5\n",
      "\n",
      "subtração\n",
      "-1\n",
      "-1\n",
      "\n",
      "multiplicação\n",
      "6\n",
      "6\n",
      "\n",
      "divisão\n",
      "0.6666666666666666\n",
      "0\n",
      "0.6666666666666666\n",
      "\n",
      "potenciação\n",
      "8\n",
      "8\n",
      "\n"
     ]
    }
   ],
   "source": [
    "with tf.Session() as sess:\n",
    "    print('adição')\n",
    "    print(sess.run(a + b))\n",
    "    print(sess.run(tf.add(a, b)))\n",
    "    print()\n",
    "    \n",
    "    print('subtração')    \n",
    "    print(sess.run(a - b))\n",
    "    print(sess.run(tf.subtract(a, b)))\n",
    "    print()\n",
    "    \n",
    "    print('multiplicação')    \n",
    "    print(sess.run(a * b))\n",
    "    print(sess.run(tf.multiply(a, b)))\n",
    "    print()\n",
    "    \n",
    "    print('divisão')    \n",
    "    print(sess.run(a / b))\n",
    "    print(sess.run(tf.div(a, b)))\n",
    "    print(sess.run(tf.divide(a, b)))\n",
    "    print()\n",
    "    \n",
    "    print('potenciação')\n",
    "    print(sess.run(a ** b))\n",
    "    print(sess.run(tf.pow(a, b)))\n",
    "    print()"
   ]
  },
  {
   "cell_type": "code",
   "execution_count": 23,
   "metadata": {},
   "outputs": [
    {
     "name": "stdout",
     "output_type": "stream",
     "text": [
      "[[11.]]\n",
      "[[3. 6.]\n",
      " [4. 8.]]\n"
     ]
    }
   ],
   "source": [
    "matrix1 = tf.constant([[1.0, 2.0]])\n",
    "matrix2 = tf.constant([[3.0], [4.0]])\n",
    "product = tf.matmul(matrix1, matrix2)\n",
    "multiply = tf.multiply(matrix1, matrix2)\n",
    "\n",
    "with tf.Session() as sess:\n",
    "    print(sess.run(product))\n",
    "    print(sess.run(multiply))"
   ]
  },
  {
   "cell_type": "code",
   "execution_count": 24,
   "metadata": {},
   "outputs": [
    {
     "name": "stdout",
     "output_type": "stream",
     "text": [
      "[35. 48.]\n",
      "[[ 5. 12.]]\n",
      "[[21. 24.]\n",
      " [28. 32.]]\n"
     ]
    }
   ],
   "source": [
    "vector1 = tf.constant([5.0, 6.0])\n",
    "vector2 = tf.constant([7.0, 8.0])\n",
    "\n",
    "with tf.Session() as sess:\n",
    "    print(sess.run(tf.multiply(vector1, vector2)))\n",
    "    print(sess.run(tf.multiply(matrix1, vector1)))\n",
    "    print(sess.run(tf.multiply(matrix2, vector2)))"
   ]
  },
  {
   "cell_type": "markdown",
   "metadata": {},
   "source": [
    "# Tipos de Variáveis "
   ]
  },
  {
   "cell_type": "markdown",
   "metadata": {},
   "source": [
    "### Variables"
   ]
  },
  {
   "cell_type": "code",
   "execution_count": 30,
   "metadata": {},
   "outputs": [
    {
     "name": "stdout",
     "output_type": "stream",
     "text": [
      "<tf.Variable 'Variable_3:0' shape=() dtype=float32_ref>\n",
      "<tf.Variable 'Variable_4:0' shape=(3,) dtype=float32_ref>\n"
     ]
    }
   ],
   "source": [
    "v1 = tf.Variable(2.0)\n",
    "v2 = tf.Variable([1.0, 2.0, 3.0])\n",
    "\n",
    "print(v1)\n",
    "print(v2)"
   ]
  },
  {
   "cell_type": "code",
   "execution_count": 33,
   "metadata": {},
   "outputs": [
    {
     "name": "stdout",
     "output_type": "stream",
     "text": [
      "[2. 4. 6.]\n"
     ]
    }
   ],
   "source": [
    "with tf.Session() as sess:\n",
    "    sess.run(tf.global_variables_initializer())\n",
    "    print(sess.run(v1 * v2))"
   ]
  },
  {
   "cell_type": "markdown",
   "metadata": {},
   "source": [
    "### Placeholders"
   ]
  },
  {
   "cell_type": "code",
   "execution_count": 27,
   "metadata": {},
   "outputs": [
    {
     "name": "stdout",
     "output_type": "stream",
     "text": [
      "5\n",
      "20\n"
     ]
    }
   ],
   "source": [
    "a = tf.placeholder(tf.int32)\n",
    "b = tf.placeholder(tf.int32)\n",
    "\n",
    "add = tf.add(a, b)\n",
    "mul = tf.multiply(a, b)\n",
    "\n",
    "with tf.Session() as sess:\n",
    "    print(sess.run(add, feed_dict={a: 2, b: 3}))\n",
    "    print(sess.run(mul, feed_dict={a: 4, b: 5}))"
   ]
  },
  {
   "cell_type": "markdown",
   "metadata": {},
   "source": [
    "# Eager execution"
   ]
  },
  {
   "cell_type": "code",
   "execution_count": 2,
   "metadata": {},
   "outputs": [],
   "source": [
    "tf.enable_eager_execution()"
   ]
  },
  {
   "cell_type": "code",
   "execution_count": 8,
   "metadata": {},
   "outputs": [
    {
     "name": "stdout",
     "output_type": "stream",
     "text": [
      "a + b = 5\n",
      "a * b = 6\n"
     ]
    }
   ],
   "source": [
    "a = tf.constant(2)\n",
    "b = tf.constant(3)\n",
    "\n",
    "print('a + b = {}'.format(a + b))\n",
    "print('a * b = {}'.format(a * b))"
   ]
  },
  {
   "cell_type": "code",
   "execution_count": 15,
   "metadata": {},
   "outputs": [
    {
     "name": "stdout",
     "output_type": "stream",
     "text": [
      "tf.Tensor(\n",
      "[[5. 1.]\n",
      " [6. 1.]], shape=(2, 2), dtype=float32)\n",
      "tf.Tensor(\n",
      "[[11.  1.]\n",
      " [ 3.  0.]], shape=(2, 2), dtype=float32)\n"
     ]
    }
   ],
   "source": [
    "a = tf.constant([[2.0, 1.0], [1.0, 0.0]], dtype=tf.float32)\n",
    "b = np.array([[3.0, 0.0], [5.0, 1.0]], dtype=np.float32)\n",
    "\n",
    "add = a + b\n",
    "mul = tf.matmul(a, b)\n",
    "\n",
    "print(add)\n",
    "print(mul)"
   ]
  },
  {
   "cell_type": "markdown",
   "metadata": {},
   "source": [
    "# Exemplos"
   ]
  },
  {
   "cell_type": "markdown",
   "metadata": {},
   "source": [
    "### Classificação com Rede Neural Simples"
   ]
  },
  {
   "cell_type": "code",
   "execution_count": 2,
   "metadata": {},
   "outputs": [
    {
     "name": "stdout",
     "output_type": "stream",
     "text": [
      "Downloading data from https://storage.googleapis.com/tensorflow/tf-keras-datasets/mnist.npz\n",
      "11493376/11490434 [==============================] - 1s 0us/step\n",
      "(60000, 28, 28) (60000,)\n",
      "(10000, 28, 28) (10000,)\n"
     ]
    }
   ],
   "source": [
    "(x_train, y_train), (x_test, y_test) = mnist.load_data()\n",
    "\n",
    "print(x_train.shape, y_train.shape)\n",
    "print(x_test.shape, y_test.shape)"
   ]
  },
  {
   "cell_type": "code",
   "execution_count": 3,
   "metadata": {},
   "outputs": [
    {
     "data": {
      "image/png": "[encoded data removed]",
      "text/plain": [
       "<Figure size 1152x360 with 30 Axes>"
      ]
     },
     "metadata": {
      "needs_background": "light"
     },
     "output_type": "display_data"
    }
   ],
   "source": [
    "plot.image_batch(x_train[:30], y_train[:30])"
   ]
  },
  {
   "cell_type": "code",
   "execution_count": 4,
   "metadata": {},
   "outputs": [],
   "source": [
    "x_train, x_test = x_train / 255.0, x_test / 255.0"
   ]
  },
  {
   "cell_type": "code",
   "execution_count": 6,
   "metadata": {},
   "outputs": [
    {
     "name": "stdout",
     "output_type": "stream",
     "text": [
      "_________________________________________________________________\n",
      "Layer (type)                 Output Shape              Param #   \n",
      "=================================================================\n",
      "flatten_1 (Flatten)          (None, 784)               0         \n",
      "_________________________________________________________________\n",
      "dense_2 (Dense)              (None, 128)               100480    \n",
      "_________________________________________________________________\n",
      "dense_3 (Dense)              (None, 10)                1290      \n",
      "=================================================================\n",
      "Total params: 101,770\n",
      "Trainable params: 101,770\n",
      "Non-trainable params: 0\n",
      "_________________________________________________________________\n",
      "Train on 42000 samples, validate on 18000 samples\n",
      "Epoch 1/5\n",
      "42000/42000 [==============================] - 2s 41us/step - loss: 0.3046 - acc: 0.9131 - val_loss: 0.1835 - val_acc: 0.9467\n",
      "Epoch 2/5\n",
      "42000/42000 [==============================] - 2s 36us/step - loss: 0.1371 - acc: 0.9597 - val_loss: 0.1357 - val_acc: 0.9589\n",
      "Epoch 3/5\n",
      "42000/42000 [==============================] - 2s 36us/step - loss: 0.0936 - acc: 0.9726 - val_loss: 0.1159 - val_acc: 0.9661\n",
      "Epoch 4/5\n",
      "42000/42000 [==============================] - 1s 36us/step - loss: 0.0694 - acc: 0.9783 - val_loss: 0.1098 - val_acc: 0.9676\n",
      "Epoch 5/5\n",
      "42000/42000 [==============================] - 2s 36us/step - loss: 0.0530 - acc: 0.9842 - val_loss: 0.1080 - val_acc: 0.9686\n",
      "10000/10000 [==============================] - 0s 14us/step\n"
     ]
    },
    {
     "data": {
      "text/plain": [
       "[0.09646237155329436, 0.9724]"
      ]
     },
     "execution_count": 6,
     "metadata": {},
     "output_type": "execute_result"
    }
   ],
   "source": [
    "model = tf.keras.models.Sequential([\n",
    "    tf.keras.layers.Flatten(input_shape=(28, 28)),\n",
    "    tf.keras.layers.Dense(128, activation=tf.nn.relu),\n",
    "    tf.keras.layers.Dense(10, activation=tf.nn.softmax)\n",
    "])\n",
    "\n",
    "model.summary()\n",
    "\n",
    "model.compile(optimizer='adam', loss='sparse_categorical_crossentropy', metrics=['accuracy'])\n",
    "\n",
    "model.fit(x_train, y_train, batch_size=32, epochs=5, validation_split=0.3)\n",
    "model.evaluate(x_test, y_test)"
   ]
  },
  {
   "cell_type": "markdown",
   "metadata": {},
   "source": [
    "### Classificação com Rede Neural Convolucional"
   ]
  },
  {
   "cell_type": "code",
   "execution_count": 12,
   "metadata": {},
   "outputs": [
    {
     "name": "stdout",
     "output_type": "stream",
     "text": [
      "_________________________________________________________________\n",
      "Layer (type)                 Output Shape              Param #   \n",
      "=================================================================\n",
      "conv2d_17 (Conv2D)           (None, 28, 28, 8)         80        \n",
      "_________________________________________________________________\n",
      "max_pooling2d_12 (MaxPooling (None, 14, 14, 8)         0         \n",
      "_________________________________________________________________\n",
      "conv2d_18 (Conv2D)           (None, 14, 14, 16)        1168      \n",
      "_________________________________________________________________\n",
      "max_pooling2d_13 (MaxPooling (None, 7, 7, 16)          0         \n",
      "_________________________________________________________________\n",
      "conv2d_19 (Conv2D)           (None, 7, 7, 32)          4640      \n",
      "_________________________________________________________________\n",
      "max_pooling2d_14 (MaxPooling (None, 3, 3, 32)          0         \n",
      "_________________________________________________________________\n",
      "conv2d_20 (Conv2D)           (None, 3, 3, 64)          18496     \n",
      "_________________________________________________________________\n",
      "flatten_6 (Flatten)          (None, 576)               0         \n",
      "_________________________________________________________________\n",
      "dense_12 (Dense)             (None, 16)                9232      \n",
      "_________________________________________________________________\n",
      "dense_13 (Dense)             (None, 10)                170       \n",
      "=================================================================\n",
      "Total params: 33,786\n",
      "Trainable params: 33,786\n",
      "Non-trainable params: 0\n",
      "_________________________________________________________________\n",
      "Train on 42000 samples, validate on 18000 samples\n",
      "Epoch 1/5\n",
      "42000/42000 [==============================] - 12s 289us/step - loss: 0.2873 - acc: 0.9071 - val_loss: 0.1115 - val_acc: 0.9661\n",
      "Epoch 2/5\n",
      "42000/42000 [==============================] - 11s 267us/step - loss: 0.0744 - acc: 0.9765 - val_loss: 0.0606 - val_acc: 0.9822\n",
      "Epoch 3/5\n",
      "42000/42000 [==============================] - 11s 266us/step - loss: 0.0516 - acc: 0.9831 - val_loss: 0.0701 - val_acc: 0.9801\n",
      "Epoch 4/5\n",
      "42000/42000 [==============================] - 11s 270us/step - loss: 0.0413 - acc: 0.9862 - val_loss: 0.0569 - val_acc: 0.9829\n",
      "Epoch 5/5\n",
      "42000/42000 [==============================] - 11s 268us/step - loss: 0.0315 - acc: 0.9898 - val_loss: 0.0499 - val_acc: 0.9860\n",
      "10000/10000 [==============================] - 1s 87us/step\n"
     ]
    },
    {
     "data": {
      "text/plain": [
       "[0.03840717237161589, 0.9877]"
      ]
     },
     "execution_count": 12,
     "metadata": {},
     "output_type": "execute_result"
    }
   ],
   "source": [
    "model = tf.keras.models.Sequential([\n",
    "    tf.keras.layers.Conv2D(filters=8, kernel_size=(3, 3), strides=(1, 1), padding='same', activation='relu', input_shape=(28, 28, 1)),\n",
    "    tf.keras.layers.MaxPool2D(pool_size=(2, 2), strides=(2, 2), padding='valid'),\n",
    "    tf.keras.layers.Conv2D(filters=16, kernel_size=(3, 3), strides=(1, 1), padding='same', activation='relu'),\n",
    "    tf.keras.layers.MaxPool2D(pool_size=(2, 2), strides=(2, 2), padding='valid'),\n",
    "    tf.keras.layers.Conv2D(filters=32, kernel_size=(3, 3), strides=(1, 1), padding='same', activation='relu'),\n",
    "    tf.keras.layers.MaxPool2D(pool_size=(2, 2), strides=(2, 2), padding='valid'),\n",
    "    tf.keras.layers.Conv2D(filters=64, kernel_size=(3, 3), strides=(1, 1), padding='same', activation='relu'),\n",
    "    tf.keras.layers.Flatten(),\n",
    "    tf.keras.layers.Dense(units=16, activation='relu'),\n",
    "    tf.keras.layers.Dense(units=10, activation='softmax')\n",
    "])\n",
    "\n",
    "model.summary()\n",
    "\n",
    "model.compile(optimizer='adam', loss='sparse_categorical_crossentropy', metrics=['accuracy'])\n",
    "\n",
    "model.fit(x_train.reshape(-1, 28, 28, 1), y_train, batch_size=32, epochs=5, validation_split=0.3)\n",
    "model.evaluate(x_test.reshape(-1, 28, 28, 1), y_test)"
   ]
  },
  {
   "cell_type": "markdown",
   "metadata": {},
   "source": [
    "### Regressão Multivariada"
   ]
  },
  {
   "cell_type": "code",
   "execution_count": 16,
   "metadata": {},
   "outputs": [
    {
     "name": "stdout",
     "output_type": "stream",
     "text": [
      "(442, 10) (442,)\n"
     ]
    }
   ],
   "source": [
    "data = np.loadtxt('data/diabetes.csv', delimiter=',', skiprows=1)\n",
    "x, y = data[:, :-1], data[:, -1]\n",
    "\n",
    "print(x.shape, y.shape)"
   ]
  },
  {
   "cell_type": "code",
   "execution_count": 44,
   "metadata": {
    "scrolled": false
   },
   "outputs": [
    {
     "name": "stdout",
     "output_type": "stream",
     "text": [
      "_________________________________________________________________\n",
      "Layer (type)                 Output Shape              Param #   \n",
      "=================================================================\n",
      "dense_64 (Dense)             (None, 50)                550       \n",
      "_________________________________________________________________\n",
      "dropout_23 (Dropout)         (None, 50)                0         \n",
      "_________________________________________________________________\n",
      "dense_65 (Dense)             (None, 50)                2550      \n",
      "_________________________________________________________________\n",
      "dropout_24 (Dropout)         (None, 50)                0         \n",
      "_________________________________________________________________\n",
      "dense_66 (Dense)             (None, 50)                2550      \n",
      "_________________________________________________________________\n",
      "dense_67 (Dense)             (None, 1)                 51        \n",
      "=================================================================\n",
      "Total params: 5,701\n",
      "Trainable params: 5,701\n",
      "Non-trainable params: 0\n",
      "_________________________________________________________________\n",
      "Train on 309 samples, validate on 133 samples\n",
      "Epoch 1/50\n",
      "309/309 [==============================] - 1s 2ms/step - loss: 28373.0897 - mean_squared_error: 28373.0897 - val_loss: 30631.0609 - val_mean_squared_error: 30631.0609\n",
      "Epoch 2/50\n",
      "309/309 [==============================] - 0s 85us/step - loss: 28330.0295 - mean_squared_error: 28330.0295 - val_loss: 30571.4687 - val_mean_squared_error: 30571.4687\n",
      "Epoch 3/50\n",
      "309/309 [==============================] - 0s 42us/step - loss: 28253.3128 - mean_squared_error: 28253.3128 - val_loss: 30458.4635 - val_mean_squared_error: 30458.4635\n",
      "Epoch 4/50\n",
      "309/309 [==============================] - 0s 42us/step - loss: 28105.9067 - mean_squared_error: 28105.9067 - val_loss: 30239.5620 - val_mean_squared_error: 30239.5620\n",
      "Epoch 5/50\n",
      "309/309 [==============================] - 0s 42us/step - loss: 27824.1325 - mean_squared_error: 27824.1325 - val_loss: 29813.5584 - val_mean_squared_error: 29813.5584\n",
      "Epoch 6/50\n",
      "309/309 [==============================] - 0s 42us/step - loss: 27292.9914 - mean_squared_error: 27292.9914 - val_loss: 29033.0252 - val_mean_squared_error: 29033.0252\n",
      "Epoch 7/50\n",
      "309/309 [==============================] - 0s 45us/step - loss: 26336.6054 - mean_squared_error: 26336.6054 - val_loss: 27662.3971 - val_mean_squared_error: 27662.3971\n",
      "Epoch 8/50\n",
      "309/309 [==============================] - 0s 39us/step - loss: 24719.0387 - mean_squared_error: 24719.0387 - val_loss: 25462.1622 - val_mean_squared_error: 25462.1622\n",
      "Epoch 9/50\n",
      "309/309 [==============================] - 0s 42us/step - loss: 22411.4184 - mean_squared_error: 22411.4184 - val_loss: 22208.8103 - val_mean_squared_error: 22208.8103\n",
      "Epoch 10/50\n",
      "309/309 [==============================] - 0s 39us/step - loss: 19100.2953 - mean_squared_error: 19100.2953 - val_loss: 17855.7900 - val_mean_squared_error: 17855.7900\n",
      "Epoch 11/50\n",
      "309/309 [==============================] - 0s 42us/step - loss: 14615.2623 - mean_squared_error: 14615.2623 - val_loss: 12792.9882 - val_mean_squared_error: 12792.9882\n",
      "Epoch 12/50\n",
      "309/309 [==============================] - 0s 39us/step - loss: 10625.6344 - mean_squared_error: 10625.6344 - val_loss: 8114.9582 - val_mean_squared_error: 8114.9582\n",
      "Epoch 13/50\n",
      "309/309 [==============================] - 0s 39us/step - loss: 7016.8291 - mean_squared_error: 7016.8291 - val_loss: 5237.4489 - val_mean_squared_error: 5237.4489\n",
      "Epoch 14/50\n",
      "309/309 [==============================] - 0s 45us/step - loss: 5650.1390 - mean_squared_error: 5650.1390 - val_loss: 4372.8817 - val_mean_squared_error: 4372.8817\n",
      "Epoch 15/50\n",
      "309/309 [==============================] - 0s 39us/step - loss: 5575.9942 - mean_squared_error: 5575.9942 - val_loss: 4165.2559 - val_mean_squared_error: 4165.2559\n",
      "Epoch 16/50\n",
      "309/309 [==============================] - 0s 45us/step - loss: 5354.9928 - mean_squared_error: 5354.9928 - val_loss: 4078.3098 - val_mean_squared_error: 4078.3098\n",
      "Epoch 17/50\n",
      "309/309 [==============================] - 0s 39us/step - loss: 5671.9458 - mean_squared_error: 5671.9458 - val_loss: 4035.4095 - val_mean_squared_error: 4035.4095\n",
      "Epoch 18/50\n",
      "309/309 [==============================] - 0s 48us/step - loss: 5228.8143 - mean_squared_error: 5228.8143 - val_loss: 3972.2143 - val_mean_squared_error: 3972.2143\n",
      "Epoch 19/50\n",
      "309/309 [==============================] - 0s 36us/step - loss: 4723.7108 - mean_squared_error: 4723.7108 - val_loss: 3842.4206 - val_mean_squared_error: 3842.4206\n",
      "Epoch 20/50\n",
      "309/309 [==============================] - 0s 45us/step - loss: 4823.1289 - mean_squared_error: 4823.1289 - val_loss: 3671.7687 - val_mean_squared_error: 3671.7687\n",
      "Epoch 21/50\n",
      "309/309 [==============================] - 0s 39us/step - loss: 5090.4149 - mean_squared_error: 5090.4149 - val_loss: 3605.2859 - val_mean_squared_error: 3605.2859\n",
      "Epoch 22/50\n",
      "309/309 [==============================] - 0s 36us/step - loss: 4831.9628 - mean_squared_error: 4831.9628 - val_loss: 3562.6109 - val_mean_squared_error: 3562.6109\n",
      "Epoch 23/50\n",
      "309/309 [==============================] - 0s 42us/step - loss: 5063.8933 - mean_squared_error: 5063.8933 - val_loss: 3481.4327 - val_mean_squared_error: 3481.4327\n",
      "Epoch 24/50\n",
      "309/309 [==============================] - 0s 39us/step - loss: 4811.8283 - mean_squared_error: 4811.8283 - val_loss: 3410.3418 - val_mean_squared_error: 3410.3418\n",
      "Epoch 25/50\n",
      "309/309 [==============================] - 0s 45us/step - loss: 5143.0521 - mean_squared_error: 5143.0521 - val_loss: 3346.7267 - val_mean_squared_error: 3346.7267\n",
      "Epoch 26/50\n",
      "309/309 [==============================] - 0s 42us/step - loss: 4637.0987 - mean_squared_error: 4637.0987 - val_loss: 3307.8065 - val_mean_squared_error: 3307.8065\n",
      "Epoch 27/50\n",
      "309/309 [==============================] - 0s 42us/step - loss: 4709.6326 - mean_squared_error: 4709.6326 - val_loss: 3321.6669 - val_mean_squared_error: 3321.6669\n",
      "Epoch 28/50\n",
      "309/309 [==============================] - 0s 39us/step - loss: 4574.2254 - mean_squared_error: 4574.2254 - val_loss: 3267.0712 - val_mean_squared_error: 3267.0712\n",
      "Epoch 29/50\n",
      "309/309 [==============================] - 0s 39us/step - loss: 4209.5121 - mean_squared_error: 4209.5121 - val_loss: 3217.5716 - val_mean_squared_error: 3217.5716\n",
      "Epoch 30/50\n",
      "309/309 [==============================] - 0s 42us/step - loss: 4535.0637 - mean_squared_error: 4535.0637 - val_loss: 3184.0534 - val_mean_squared_error: 3184.0534\n",
      "Epoch 31/50\n",
      "309/309 [==============================] - 0s 39us/step - loss: 4373.6936 - mean_squared_error: 4373.6936 - val_loss: 3134.7022 - val_mean_squared_error: 3134.7022\n",
      "Epoch 32/50\n",
      "309/309 [==============================] - 0s 45us/step - loss: 4455.4960 - mean_squared_error: 4455.4960 - val_loss: 3154.6428 - val_mean_squared_error: 3154.6428\n",
      "Epoch 33/50\n",
      "309/309 [==============================] - 0s 42us/step - loss: 4742.4784 - mean_squared_error: 4742.4784 - val_loss: 3121.7313 - val_mean_squared_error: 3121.7313\n",
      "Epoch 34/50\n",
      "309/309 [==============================] - 0s 45us/step - loss: 4869.9899 - mean_squared_error: 4869.9899 - val_loss: 3083.7948 - val_mean_squared_error: 3083.7948\n",
      "Epoch 35/50\n",
      "309/309 [==============================] - 0s 39us/step - loss: 4234.6659 - mean_squared_error: 4234.6659 - val_loss: 3025.6978 - val_mean_squared_error: 3025.6978\n",
      "Epoch 36/50\n",
      "309/309 [==============================] - 0s 42us/step - loss: 4132.2013 - mean_squared_error: 4132.2013 - val_loss: 2999.9526 - val_mean_squared_error: 2999.9526\n",
      "Epoch 37/50\n",
      "309/309 [==============================] - ETA: 0s - loss: 3209.0747 - mean_squared_error: 3209.07 - 0s 39us/step - loss: 4281.7293 - mean_squared_error: 4281.7293 - val_loss: 2986.1305 - val_mean_squared_error: 2986.1305\n",
      "Epoch 38/50\n",
      "309/309 [==============================] - 0s 39us/step - loss: 4293.6088 - mean_squared_error: 4293.6088 - val_loss: 2981.2916 - val_mean_squared_error: 2981.2916\n",
      "Epoch 39/50\n",
      "309/309 [==============================] - 0s 45us/step - loss: 4105.8885 - mean_squared_error: 4105.8885 - val_loss: 2945.8557 - val_mean_squared_error: 2945.8557\n",
      "Epoch 40/50\n"
     ]
    },
    {
     "name": "stdout",
     "output_type": "stream",
     "text": [
      "309/309 [==============================] - 0s 42us/step - loss: 4248.3324 - mean_squared_error: 4248.3324 - val_loss: 2920.2189 - val_mean_squared_error: 2920.2189\n",
      "Epoch 41/50\n",
      "309/309 [==============================] - 0s 45us/step - loss: 4497.2722 - mean_squared_error: 4497.2722 - val_loss: 2911.3365 - val_mean_squared_error: 2911.3365\n",
      "Epoch 42/50\n",
      "309/309 [==============================] - 0s 42us/step - loss: 4181.2864 - mean_squared_error: 4181.2864 - val_loss: 2934.4927 - val_mean_squared_error: 2934.4927\n",
      "Epoch 43/50\n",
      "309/309 [==============================] - 0s 42us/step - loss: 4303.3088 - mean_squared_error: 4303.3088 - val_loss: 2933.0093 - val_mean_squared_error: 2933.0093\n",
      "Epoch 44/50\n",
      "309/309 [==============================] - 0s 39us/step - loss: 4145.1610 - mean_squared_error: 4145.1610 - val_loss: 2912.4059 - val_mean_squared_error: 2912.4059\n",
      "Epoch 45/50\n",
      "309/309 [==============================] - 0s 35us/step - loss: 4076.0349 - mean_squared_error: 4076.0349 - val_loss: 2904.8235 - val_mean_squared_error: 2904.8235\n",
      "Epoch 46/50\n",
      "309/309 [==============================] - 0s 45us/step - loss: 4099.2882 - mean_squared_error: 4099.2882 - val_loss: 2872.1335 - val_mean_squared_error: 2872.1335\n",
      "Epoch 47/50\n",
      "309/309 [==============================] - 0s 39us/step - loss: 4587.6032 - mean_squared_error: 4587.6032 - val_loss: 2900.3950 - val_mean_squared_error: 2900.3950\n",
      "Epoch 48/50\n",
      "309/309 [==============================] - 0s 48us/step - loss: 3911.9913 - mean_squared_error: 3911.9913 - val_loss: 2861.9534 - val_mean_squared_error: 2861.9534\n",
      "Epoch 49/50\n",
      "309/309 [==============================] - 0s 39us/step - loss: 4263.3337 - mean_squared_error: 4263.3337 - val_loss: 2848.1512 - val_mean_squared_error: 2848.1512\n",
      "Epoch 50/50\n",
      "309/309 [==============================] - 0s 42us/step - loss: 4276.7136 - mean_squared_error: 4276.7136 - val_loss: 2842.9468 - val_mean_squared_error: 2842.9468\n"
     ]
    }
   ],
   "source": [
    "model = tf.keras.models.Sequential([\n",
    "    tf.keras.layers.Dense(units=50, activation='relu', input_dim=10),\n",
    "    tf.keras.layers.Dropout(rate=0.5),\n",
    "    tf.keras.layers.Dense(units=50, activation='relu'),\n",
    "    tf.keras.layers.Dropout(rate=0.5),    \n",
    "    tf.keras.layers.Dense(units=50, activation='relu'),\n",
    "    tf.keras.layers.Dense(units=1)\n",
    "])\n",
    "\n",
    "model.summary()\n",
    "\n",
    "model.compile(optimizer='adam', loss='mse', metrics=['mse'])\n",
    "\n",
    "hist = model.fit(x, y, batch_size=32, epochs=50, validation_split=0.3)"
   ]
  },
  {
   "cell_type": "code",
   "execution_count": 45,
   "metadata": {},
   "outputs": [
    {
     "data": {
      "text/plain": [
       "<matplotlib.legend.Legend at 0x207ea230748>"
      ]
     },
     "execution_count": 45,
     "metadata": {},
     "output_type": "execute_result"
    },
    {
     "data": {
      "image/png": "[encoded data removed]",
      "text/plain": [
       "<Figure size 432x288 with 1 Axes>"
      ]
     },
     "metadata": {
      "needs_background": "light"
     },
     "output_type": "display_data"
    }
   ],
   "source": [
    "hist_dict = hist.history\n",
    "loss_train = hist_dict['loss']\n",
    "loss_val = hist_dict['val_loss']\n",
    "\n",
    "plt.figure()\n",
    "plt.plot(loss_train, label='train')\n",
    "plt.plot(loss_val, label='val')\n",
    "plt.legend()"
   ]
  },
  {
   "cell_type": "code",
   "execution_count": null,
   "metadata": {},
   "outputs": [],
   "source": []
  }
 ],
 "metadata": {
  "kernelspec": {
   "display_name": "Python 3",
   "language": "python",
   "name": "python3"
  },
  "language_info": {
   "codemirror_mode": {
    "name": "ipython",
    "version": 3
   },
   "file_extension": ".py",
   "mimetype": "text/x-python",
   "name": "python",
   "nbconvert_exporter": "python",
   "pygments_lexer": "ipython3",
   "version": "3.6.8"
  }
 },
 "nbformat": 4,
 "nbformat_minor": 2
}
