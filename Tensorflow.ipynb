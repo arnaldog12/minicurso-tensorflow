{
 "cells": [
  {
   "cell_type": "markdown",
   "metadata": {},
   "source": [
    "# Dependências "
   ]
  },
  {
   "cell_type": "code",
   "execution_count": 1,
   "metadata": {},
   "outputs": [
    {
     "name": "stdout",
     "output_type": "stream",
     "text": [
      "1.12.0\n"
     ]
    }
   ],
   "source": [
    "import numpy as np\n",
    "import tensorflow as tf\n",
    "from tensorflow.keras.datasets import mnist\n",
    "from utils import plot\n",
    "\n",
    "%matplotlib inline\n",
    "\n",
    "print(tf.__version__)"
   ]
  },
  {
   "cell_type": "markdown",
   "metadata": {},
   "source": [
    "# Hello, Tensorflow!"
   ]
  },
  {
   "cell_type": "code",
   "execution_count": 5,
   "metadata": {},
   "outputs": [
    {
     "name": "stdout",
     "output_type": "stream",
     "text": [
      "b'Hello, Tensorflow!'\n"
     ]
    }
   ],
   "source": [
    "hello = tf.constant('Hello, Tensorflow!')\n",
    "sess = tf.Session()\n",
    "print(sess.run(hello))"
   ]
  },
  {
   "cell_type": "markdown",
   "metadata": {},
   "source": [
    "# Operações Básicas"
   ]
  },
  {
   "cell_type": "code",
   "execution_count": 7,
   "metadata": {},
   "outputs": [
    {
     "name": "stdout",
     "output_type": "stream",
     "text": [
      "Tensor(\"add_1:0\", shape=(), dtype=int32)\n",
      "Tensor(\"mul:0\", shape=(), dtype=int32)\n"
     ]
    }
   ],
   "source": [
    "a = tf.constant(2)\n",
    "b = tf.constant(3)\n",
    "\n",
    "print(a + b)\n",
    "print(a * b)"
   ]
  },
  {
   "cell_type": "code",
   "execution_count": 15,
   "metadata": {},
   "outputs": [
    {
     "name": "stdout",
     "output_type": "stream",
     "text": [
      "adição\n",
      "5\n",
      "5\n",
      "\n",
      "subtração\n",
      "-1\n",
      "-1\n",
      "\n",
      "multiplicação\n",
      "6\n",
      "6\n",
      "\n",
      "divisão\n",
      "0.6666666666666666\n",
      "0\n",
      "0.6666666666666666\n",
      "\n",
      "potenciação\n",
      "8\n",
      "8\n",
      "\n"
     ]
    }
   ],
   "source": [
    "with tf.Session() as sess:\n",
    "    print('adição')\n",
    "    print(sess.run(a + b))\n",
    "    print(sess.run(tf.add(a, b)))\n",
    "    print()\n",
    "    \n",
    "    print('subtração')    \n",
    "    print(sess.run(a - b))\n",
    "    print(sess.run(tf.subtract(a, b)))\n",
    "    print()\n",
    "    \n",
    "    print('multiplicação')    \n",
    "    print(sess.run(a * b))\n",
    "    print(sess.run(tf.multiply(a, b)))\n",
    "    print()\n",
    "    \n",
    "    print('divisão')    \n",
    "    print(sess.run(a / b))\n",
    "    print(sess.run(tf.div(a, b)))\n",
    "    print(sess.run(tf.divide(a, b)))\n",
    "    print()\n",
    "    \n",
    "    print('potenciação')\n",
    "    print(sess.run(a ** b))\n",
    "    print(sess.run(tf.pow(a, b)))\n",
    "    print()"
   ]
  },
  {
   "cell_type": "code",
   "execution_count": 23,
   "metadata": {},
   "outputs": [
    {
     "name": "stdout",
     "output_type": "stream",
     "text": [
      "[[11.]]\n",
      "[[3. 6.]\n",
      " [4. 8.]]\n"
     ]
    }
   ],
   "source": [
    "matrix1 = tf.constant([[1.0, 2.0]])\n",
    "matrix2 = tf.constant([[3.0], [4.0]])\n",
    "product = tf.matmul(matrix1, matrix2)\n",
    "multiply = tf.multiply(matrix1, matrix2)\n",
    "\n",
    "with tf.Session() as sess:\n",
    "    print(sess.run(product))\n",
    "    print(sess.run(multiply))"
   ]
  },
  {
   "cell_type": "code",
   "execution_count": 24,
   "metadata": {},
   "outputs": [
    {
     "name": "stdout",
     "output_type": "stream",
     "text": [
      "[35. 48.]\n",
      "[[ 5. 12.]]\n",
      "[[21. 24.]\n",
      " [28. 32.]]\n"
     ]
    }
   ],
   "source": [
    "vector1 = tf.constant([5.0, 6.0])\n",
    "vector2 = tf.constant([7.0, 8.0])\n",
    "\n",
    "with tf.Session() as sess:\n",
    "    print(sess.run(tf.multiply(vector1, vector2)))\n",
    "    print(sess.run(tf.multiply(matrix1, vector1)))\n",
    "    print(sess.run(tf.multiply(matrix2, vector2)))"
   ]
  },
  {
   "cell_type": "markdown",
   "metadata": {},
   "source": [
    "# Tipos de Variáveis "
   ]
  },
  {
   "cell_type": "markdown",
   "metadata": {},
   "source": [
    "### Variables"
   ]
  },
  {
   "cell_type": "code",
   "execution_count": 30,
   "metadata": {},
   "outputs": [
    {
     "name": "stdout",
     "output_type": "stream",
     "text": [
      "<tf.Variable 'Variable_3:0' shape=() dtype=float32_ref>\n",
      "<tf.Variable 'Variable_4:0' shape=(3,) dtype=float32_ref>\n"
     ]
    }
   ],
   "source": [
    "v1 = tf.Variable(2.0)\n",
    "v2 = tf.Variable([1.0, 2.0, 3.0])\n",
    "\n",
    "print(v1)\n",
    "print(v2)"
   ]
  },
  {
   "cell_type": "code",
   "execution_count": 33,
   "metadata": {},
   "outputs": [
    {
     "name": "stdout",
     "output_type": "stream",
     "text": [
      "[2. 4. 6.]\n"
     ]
    }
   ],
   "source": [
    "with tf.Session() as sess:\n",
    "    sess.run(tf.global_variables_initializer())\n",
    "    print(sess.run(v1 * v2))"
   ]
  },
  {
   "cell_type": "markdown",
   "metadata": {},
   "source": [
    "### Placeholders"
   ]
  },
  {
   "cell_type": "code",
   "execution_count": 27,
   "metadata": {},
   "outputs": [
    {
     "name": "stdout",
     "output_type": "stream",
     "text": [
      "5\n",
      "20\n"
     ]
    }
   ],
   "source": [
    "a = tf.placeholder(tf.int32)\n",
    "b = tf.placeholder(tf.int32)\n",
    "\n",
    "add = tf.add(a, b)\n",
    "mul = tf.multiply(a, b)\n",
    "\n",
    "with tf.Session() as sess:\n",
    "    print(sess.run(add, feed_dict={a: 2, b: 3}))\n",
    "    print(sess.run(mul, feed_dict={a: 4, b: 5}))"
   ]
  },
  {
   "cell_type": "markdown",
   "metadata": {},
   "source": [
    "# Eager execution"
   ]
  },
  {
   "cell_type": "code",
   "execution_count": 2,
   "metadata": {},
   "outputs": [],
   "source": [
    "tf.enable_eager_execution()"
   ]
  },
  {
   "cell_type": "code",
   "execution_count": 8,
   "metadata": {},
   "outputs": [
    {
     "name": "stdout",
     "output_type": "stream",
     "text": [
      "a + b = 5\n",
      "a * b = 6\n"
     ]
    }
   ],
   "source": [
    "a = tf.constant(2)\n",
    "b = tf.constant(3)\n",
    "\n",
    "print('a + b = {}'.format(a + b))\n",
    "print('a * b = {}'.format(a * b))"
   ]
  },
  {
   "cell_type": "code",
   "execution_count": 15,
   "metadata": {},
   "outputs": [
    {
     "name": "stdout",
     "output_type": "stream",
     "text": [
      "tf.Tensor(\n",
      "[[5. 1.]\n",
      " [6. 1.]], shape=(2, 2), dtype=float32)\n",
      "tf.Tensor(\n",
      "[[11.  1.]\n",
      " [ 3.  0.]], shape=(2, 2), dtype=float32)\n"
     ]
    }
   ],
   "source": [
    "a = tf.constant([[2.0, 1.0], [1.0, 0.0]], dtype=tf.float32)\n",
    "b = np.array([[3.0, 0.0], [5.0, 1.0]], dtype=np.float32)\n",
    "\n",
    "add = a + b\n",
    "mul = tf.matmul(a, b)\n",
    "\n",
    "print(add)\n",
    "print(mul)"
   ]
  },
  {
   "cell_type": "markdown",
   "metadata": {},
   "source": [
    "# Exemplos"
   ]
  },
  {
   "cell_type": "markdown",
   "metadata": {},
   "source": [
    "### Classificação"
   ]
  },
  {
   "cell_type": "code",
   "execution_count": 2,
   "metadata": {},
   "outputs": [
    {
     "name": "stdout",
     "output_type": "stream",
     "text": [
      "(60000, 28, 28) (60000,)\n",
      "(10000, 28, 28) (10000,)\n"
     ]
    }
   ],
   "source": [
    "(x_train, y_train), (x_test, y_test) = mnist.load_data()\n",
    "\n",
    "print(x_train.shape, y_train.shape)\n",
    "print(x_test.shape, y_test.shape)"
   ]
  },
  {
   "cell_type": "code",
   "execution_count": 3,
   "metadata": {},
   "outputs": [
    {
     "data": {
      "image/png": "[encoded data removed]",
      "text/plain": [
       "<Figure size 1152x360 with 30 Axes>"
      ]
     },
     "metadata": {
      "needs_background": "light"
     },
     "output_type": "display_data"
    }
   ],
   "source": [
    "plot.image_batch(x_train[:30], y_train[:30])"
   ]
  },
  {
   "cell_type": "code",
   "execution_count": 4,
   "metadata": {},
   "outputs": [],
   "source": [
    "x_train, x_test = x_train / 255.0, x_test / 255.0"
   ]
  },
  {
   "cell_type": "code",
   "execution_count": 6,
   "metadata": {},
   "outputs": [
    {
     "name": "stdout",
     "output_type": "stream",
     "text": [
      "Train on 42000 samples, validate on 18000 samples\n",
      "Epoch 1/5\n",
      "42000/42000 [==============================] - 12s 297us/step - loss: 0.3014 - acc: 0.9133 - val_loss: 0.1875 - val_acc: 0.9459\n",
      "Epoch 2/5\n",
      "42000/42000 [==============================] - 12s 281us/step - loss: 0.1360 - acc: 0.9602 - val_loss: 0.1307 - val_acc: 0.9636\n",
      "Epoch 3/5\n",
      "42000/42000 [==============================] - 13s 319us/step - loss: 0.0938 - acc: 0.9720 - val_loss: 0.1219 - val_acc: 0.9638\n",
      "Epoch 4/5\n",
      "42000/42000 [==============================] - 13s 300us/step - loss: 0.0677 - acc: 0.9794 - val_loss: 0.1146 - val_acc: 0.9663\n",
      "Epoch 5/5\n",
      "42000/42000 [==============================] - 12s 293us/step - loss: 0.0519 - acc: 0.9842 - val_loss: 0.1065 - val_acc: 0.9702\n",
      "10000/10000 [==============================] - 1s 50us/step\n"
     ]
    },
    {
     "data": {
      "text/plain": [
       "[0.09099772147266194, 0.9724]"
      ]
     },
     "execution_count": 6,
     "metadata": {},
     "output_type": "execute_result"
    }
   ],
   "source": [
    "model = tf.keras.models.Sequential([\n",
    "    tf.keras.layers.Flatten(input_shape=(28, 28)),\n",
    "    tf.keras.layers.Dense(128, activation=tf.nn.relu),\n",
    "    tf.keras.layers.Dense(10, activation=tf.nn.softmax)\n",
    "])\n",
    "\n",
    "model.compile(optimizer='adam', loss='sparse_categorical_crossentropy', metrics=['accuracy'])\n",
    "\n",
    "model.fit(x_train, y_train, batch_size=32, epochs=5, validation_split=0.3)\n",
    "model.evaluate(x_test, y_test)"
   ]
  },
  {
   "cell_type": "code",
   "execution_count": null,
   "metadata": {},
   "outputs": [],
   "source": []
  }
 ],
 "metadata": {
  "kernelspec": {
   "display_name": "Python 3",
   "language": "python",
   "name": "python3"
  },
  "language_info": {
   "codemirror_mode": {
    "name": "ipython",
    "version": 3
   },
   "file_extension": ".py",
   "mimetype": "text/x-python",
   "name": "python",
   "nbconvert_exporter": "python",
   "pygments_lexer": "ipython3",
   "version": "3.6.8"
  }
 },
 "nbformat": 4,
 "nbformat_minor": 2
}
